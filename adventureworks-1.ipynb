{
 "cells": [
  {
   "cell_type": "markdown",
   "metadata": {},
   "source": [
    "# AdventureWorks Relational Postgres Lab"
   ]
  },
  {
   "cell_type": "markdown",
   "metadata": {},
   "source": [
    "### Introduction"
   ]
  },
  {
   "cell_type": "markdown",
   "metadata": {},
   "source": [
    "In this lesson, we will work with the adventureworks database in postgres.  Let's get started."
   ]
  },
  {
   "cell_type": "markdown",
   "metadata": {},
   "source": [
    "### Loading our data\n",
    "\n",
    "\n",
    "We can begin by making sure our postgres application is running (if on a Mac, look for the elephant).  Once running we'll use the instructions in the [Adventureworks for postgres](https://github.com/lorint/AdventureWorks-for-Postgres) repo.\n",
    "\n",
    "Move into the `install-script` directory.  Then run the following:\n",
    "\n",
    "```bash\n",
    "psql -c \"CREATE DATABASE \\\"adventureworks\\\";\"\n",
    "psql -d adventureworks < install.sql\n",
    "```"
   ]
  },
  {
   "cell_type": "markdown",
   "metadata": {},
   "source": [
    "One thing confusing is that if we simply type `\\dt` to display our tables, we won't find any listed.  This is because all of our tables are under different schemas.  We can see this if we first connect to the adventureworks database and run the following:\n",
    "\n",
    "```sql\n",
    "\\c \"Adventureworks\"\n",
    "\\dt (humanresources|person|production|purchasing|sales).*\n",
    "```"
   ]
  },
  {
   "cell_type": "markdown",
   "metadata": {},
   "source": [
    "So as we can see there are indeed a lot of tables in our database.  And we can query any of those tables with the schema prefix like so.\n",
    "\n",
    "```sql\n",
    "select * from person.address limit 1;\n",
    "```"
   ]
  },
  {
   "cell_type": "markdown",
   "metadata": {},
   "source": [
    "The database is pretty complicated, and you can see all of the relations from the [erd link](https://i0.wp.com/improveandrepeat.com/wp-content/uploads/2018/12/AdvWorksOLTPSchemaVisio.png?ssl=1).  But we will stick to the tables in the sales schema.  Let's get started.\n",
    "\n"
   ]
  },
  {
   "cell_type": "markdown",
   "metadata": {},
   "source": [
    "### Beginning our queries"
   ]
  },
  {
   "cell_type": "markdown",
   "metadata": {},
   "source": [
    "We can connect to our database using the postgres library."
   ]
  },
  {
   "cell_type": "code",
   "execution_count": 1,
   "metadata": {},
   "outputs": [],
   "source": [
    "import warnings\n",
    "warnings.filterwarnings('ignore')\n"
   ]
  },
  {
   "cell_type": "code",
   "execution_count": 4,
   "metadata": {},
   "outputs": [],
   "source": [
    "import pandas as pd\n",
    "import psycopg2\n",
    "\n",
    "conn = psycopg2.connect(database=\"Adventureworks\", user=\"postgres\")"
   ]
  },
  {
   "cell_type": "markdown",
   "metadata": {},
   "source": [
    "And from there, we can use pandas to read from our database.  We'll can begin with our customers table."
   ]
  },
  {
   "cell_type": "code",
   "execution_count": 5,
   "metadata": {},
   "outputs": [
    {
     "data": {
      "text/html": [
       "<div>\n",
       "<style scoped>\n",
       "    .dataframe tbody tr th:only-of-type {\n",
       "        vertical-align: middle;\n",
       "    }\n",
       "\n",
       "    .dataframe tbody tr th {\n",
       "        vertical-align: top;\n",
       "    }\n",
       "\n",
       "    .dataframe thead th {\n",
       "        text-align: right;\n",
       "    }\n",
       "</style>\n",
       "<table border=\"1\" class=\"dataframe\">\n",
       "  <thead>\n",
       "    <tr style=\"text-align: right;\">\n",
       "      <th></th>\n",
       "      <th>customerid</th>\n",
       "      <th>personid</th>\n",
       "      <th>storeid</th>\n",
       "      <th>territoryid</th>\n",
       "      <th>rowguid</th>\n",
       "      <th>modifieddate</th>\n",
       "    </tr>\n",
       "  </thead>\n",
       "  <tbody>\n",
       "    <tr>\n",
       "      <th>0</th>\n",
       "      <td>1</td>\n",
       "      <td>None</td>\n",
       "      <td>934</td>\n",
       "      <td>1</td>\n",
       "      <td>3f5ae95e-b87d-4aed-95b4-c3797afcb74f</td>\n",
       "      <td>2014-09-12 11:15:07.263</td>\n",
       "    </tr>\n",
       "    <tr>\n",
       "      <th>1</th>\n",
       "      <td>2</td>\n",
       "      <td>None</td>\n",
       "      <td>1028</td>\n",
       "      <td>1</td>\n",
       "      <td>e552f657-a9af-4a7d-a645-c429d6e02491</td>\n",
       "      <td>2014-09-12 11:15:07.263</td>\n",
       "    </tr>\n",
       "    <tr>\n",
       "      <th>2</th>\n",
       "      <td>3</td>\n",
       "      <td>None</td>\n",
       "      <td>642</td>\n",
       "      <td>4</td>\n",
       "      <td>130774b1-db21-4ef3-98c8-c104bcd6ed6d</td>\n",
       "      <td>2014-09-12 11:15:07.263</td>\n",
       "    </tr>\n",
       "    <tr>\n",
       "      <th>3</th>\n",
       "      <td>4</td>\n",
       "      <td>None</td>\n",
       "      <td>932</td>\n",
       "      <td>4</td>\n",
       "      <td>ff862851-1daa-4044-be7c-3e85583c054d</td>\n",
       "      <td>2014-09-12 11:15:07.263</td>\n",
       "    </tr>\n",
       "    <tr>\n",
       "      <th>4</th>\n",
       "      <td>5</td>\n",
       "      <td>None</td>\n",
       "      <td>1026</td>\n",
       "      <td>4</td>\n",
       "      <td>83905bdc-6f5e-4f71-b162-c98da069f38a</td>\n",
       "      <td>2014-09-12 11:15:07.263</td>\n",
       "    </tr>\n",
       "  </tbody>\n",
       "</table>\n",
       "</div>"
      ],
      "text/plain": [
       "   customerid personid  storeid  territoryid  \\\n",
       "0           1     None      934            1   \n",
       "1           2     None     1028            1   \n",
       "2           3     None      642            4   \n",
       "3           4     None      932            4   \n",
       "4           5     None     1026            4   \n",
       "\n",
       "                                rowguid            modifieddate  \n",
       "0  3f5ae95e-b87d-4aed-95b4-c3797afcb74f 2014-09-12 11:15:07.263  \n",
       "1  e552f657-a9af-4a7d-a645-c429d6e02491 2014-09-12 11:15:07.263  \n",
       "2  130774b1-db21-4ef3-98c8-c104bcd6ed6d 2014-09-12 11:15:07.263  \n",
       "3  ff862851-1daa-4044-be7c-3e85583c054d 2014-09-12 11:15:07.263  \n",
       "4  83905bdc-6f5e-4f71-b162-c98da069f38a 2014-09-12 11:15:07.263  "
      ]
     },
     "execution_count": 5,
     "metadata": {},
     "output_type": "execute_result"
    }
   ],
   "source": [
    "pd.read_sql(\"select * from sales.Customer limit 5\", conn)"
   ]
  },
  {
   "cell_type": "markdown",
   "metadata": {},
   "source": [
    "And then let's view some of the data in our `SalesOrderHeader` table."
   ]
  },
  {
   "cell_type": "markdown",
   "metadata": {},
   "source": [
    "> Notice below we have a `.T` at the very end.  This is to `transpose` our dataframe -- which sometimes makes it easier to see all of the columns.  The `0` and `1` are to describe each of the rows of data."
   ]
  },
  {
   "cell_type": "code",
   "execution_count": 44,
   "metadata": {},
   "outputs": [
    {
     "data": {
      "text/html": [
       "<div>\n",
       "<style scoped>\n",
       "    .dataframe tbody tr th:only-of-type {\n",
       "        vertical-align: middle;\n",
       "    }\n",
       "\n",
       "    .dataframe tbody tr th {\n",
       "        vertical-align: top;\n",
       "    }\n",
       "\n",
       "    .dataframe thead th {\n",
       "        text-align: right;\n",
       "    }\n",
       "</style>\n",
       "<table border=\"1\" class=\"dataframe\">\n",
       "  <thead>\n",
       "    <tr style=\"text-align: right;\">\n",
       "      <th></th>\n",
       "      <th>0</th>\n",
       "      <th>1</th>\n",
       "    </tr>\n",
       "  </thead>\n",
       "  <tbody>\n",
       "    <tr>\n",
       "      <th>salesorderid</th>\n",
       "      <td>43659</td>\n",
       "      <td>43660</td>\n",
       "    </tr>\n",
       "    <tr>\n",
       "      <th>revisionnumber</th>\n",
       "      <td>8</td>\n",
       "      <td>8</td>\n",
       "    </tr>\n",
       "    <tr>\n",
       "      <th>orderdate</th>\n",
       "      <td>2011-05-31 00:00:00</td>\n",
       "      <td>2011-05-31 00:00:00</td>\n",
       "    </tr>\n",
       "    <tr>\n",
       "      <th>duedate</th>\n",
       "      <td>2011-06-12 00:00:00</td>\n",
       "      <td>2011-06-12 00:00:00</td>\n",
       "    </tr>\n",
       "    <tr>\n",
       "      <th>shipdate</th>\n",
       "      <td>2011-06-07 00:00:00</td>\n",
       "      <td>2011-06-07 00:00:00</td>\n",
       "    </tr>\n",
       "    <tr>\n",
       "      <th>status</th>\n",
       "      <td>5</td>\n",
       "      <td>5</td>\n",
       "    </tr>\n",
       "    <tr>\n",
       "      <th>onlineorderflag</th>\n",
       "      <td>False</td>\n",
       "      <td>False</td>\n",
       "    </tr>\n",
       "    <tr>\n",
       "      <th>purchaseordernumber</th>\n",
       "      <td>PO522145787</td>\n",
       "      <td>PO18850127500</td>\n",
       "    </tr>\n",
       "    <tr>\n",
       "      <th>accountnumber</th>\n",
       "      <td>10-4020-000676</td>\n",
       "      <td>10-4020-000117</td>\n",
       "    </tr>\n",
       "    <tr>\n",
       "      <th>customerid</th>\n",
       "      <td>29825</td>\n",
       "      <td>29672</td>\n",
       "    </tr>\n",
       "    <tr>\n",
       "      <th>salespersonid</th>\n",
       "      <td>279</td>\n",
       "      <td>279</td>\n",
       "    </tr>\n",
       "    <tr>\n",
       "      <th>territoryid</th>\n",
       "      <td>5</td>\n",
       "      <td>5</td>\n",
       "    </tr>\n",
       "    <tr>\n",
       "      <th>billtoaddressid</th>\n",
       "      <td>985</td>\n",
       "      <td>921</td>\n",
       "    </tr>\n",
       "    <tr>\n",
       "      <th>shiptoaddressid</th>\n",
       "      <td>985</td>\n",
       "      <td>921</td>\n",
       "    </tr>\n",
       "    <tr>\n",
       "      <th>shipmethodid</th>\n",
       "      <td>5</td>\n",
       "      <td>5</td>\n",
       "    </tr>\n",
       "    <tr>\n",
       "      <th>creditcardid</th>\n",
       "      <td>16281</td>\n",
       "      <td>5618</td>\n",
       "    </tr>\n",
       "    <tr>\n",
       "      <th>creditcardapprovalcode</th>\n",
       "      <td>105041Vi84182</td>\n",
       "      <td>115213Vi29411</td>\n",
       "    </tr>\n",
       "    <tr>\n",
       "      <th>currencyrateid</th>\n",
       "      <td>None</td>\n",
       "      <td>None</td>\n",
       "    </tr>\n",
       "    <tr>\n",
       "      <th>subtotal</th>\n",
       "      <td>20565.6206</td>\n",
       "      <td>1294.2529</td>\n",
       "    </tr>\n",
       "    <tr>\n",
       "      <th>taxamt</th>\n",
       "      <td>1971.5149</td>\n",
       "      <td>124.2483</td>\n",
       "    </tr>\n",
       "    <tr>\n",
       "      <th>freight</th>\n",
       "      <td>616.0984</td>\n",
       "      <td>38.8276</td>\n",
       "    </tr>\n",
       "    <tr>\n",
       "      <th>totaldue</th>\n",
       "      <td>23153.2339</td>\n",
       "      <td>1457.3288</td>\n",
       "    </tr>\n",
       "    <tr>\n",
       "      <th>comment</th>\n",
       "      <td>None</td>\n",
       "      <td>None</td>\n",
       "    </tr>\n",
       "    <tr>\n",
       "      <th>rowguid</th>\n",
       "      <td>79b65321-39ca-4115-9cba-8fe0903e12e6</td>\n",
       "      <td>738dc42d-d03b-48a1-9822-f95a67ea7389</td>\n",
       "    </tr>\n",
       "    <tr>\n",
       "      <th>modifieddate</th>\n",
       "      <td>2011-06-07 00:00:00</td>\n",
       "      <td>2011-06-07 00:00:00</td>\n",
       "    </tr>\n",
       "  </tbody>\n",
       "</table>\n",
       "</div>"
      ],
      "text/plain": [
       "                                                           0  \\\n",
       "salesorderid                                           43659   \n",
       "revisionnumber                                             8   \n",
       "orderdate                                2011-05-31 00:00:00   \n",
       "duedate                                  2011-06-12 00:00:00   \n",
       "shipdate                                 2011-06-07 00:00:00   \n",
       "status                                                     5   \n",
       "onlineorderflag                                        False   \n",
       "purchaseordernumber                              PO522145787   \n",
       "accountnumber                                 10-4020-000676   \n",
       "customerid                                             29825   \n",
       "salespersonid                                            279   \n",
       "territoryid                                                5   \n",
       "billtoaddressid                                          985   \n",
       "shiptoaddressid                                          985   \n",
       "shipmethodid                                               5   \n",
       "creditcardid                                           16281   \n",
       "creditcardapprovalcode                         105041Vi84182   \n",
       "currencyrateid                                          None   \n",
       "subtotal                                          20565.6206   \n",
       "taxamt                                             1971.5149   \n",
       "freight                                             616.0984   \n",
       "totaldue                                          23153.2339   \n",
       "comment                                                 None   \n",
       "rowguid                 79b65321-39ca-4115-9cba-8fe0903e12e6   \n",
       "modifieddate                             2011-06-07 00:00:00   \n",
       "\n",
       "                                                           1  \n",
       "salesorderid                                           43660  \n",
       "revisionnumber                                             8  \n",
       "orderdate                                2011-05-31 00:00:00  \n",
       "duedate                                  2011-06-12 00:00:00  \n",
       "shipdate                                 2011-06-07 00:00:00  \n",
       "status                                                     5  \n",
       "onlineorderflag                                        False  \n",
       "purchaseordernumber                            PO18850127500  \n",
       "accountnumber                                 10-4020-000117  \n",
       "customerid                                             29672  \n",
       "salespersonid                                            279  \n",
       "territoryid                                                5  \n",
       "billtoaddressid                                          921  \n",
       "shiptoaddressid                                          921  \n",
       "shipmethodid                                               5  \n",
       "creditcardid                                            5618  \n",
       "creditcardapprovalcode                         115213Vi29411  \n",
       "currencyrateid                                          None  \n",
       "subtotal                                           1294.2529  \n",
       "taxamt                                              124.2483  \n",
       "freight                                              38.8276  \n",
       "totaldue                                           1457.3288  \n",
       "comment                                                 None  \n",
       "rowguid                 738dc42d-d03b-48a1-9822-f95a67ea7389  \n",
       "modifieddate                             2011-06-07 00:00:00  "
      ]
     },
     "execution_count": 44,
     "metadata": {},
     "output_type": "execute_result"
    }
   ],
   "source": [
    "pd.read_sql(\"select * from sales.SalesOrderHeader limit 2\", conn).T"
   ]
  },
  {
   "cell_type": "markdown",
   "metadata": {},
   "source": [
    "So we can see that our `SalesOrderHeader` table has a good amount of foreign keys including `customerId`."
   ]
  },
  {
   "cell_type": "markdown",
   "metadata": {},
   "source": [
    "Let's start by getting a sense of our data.  What is the earliest date of our orders."
   ]
  },
  {
   "cell_type": "code",
   "execution_count": 20,
   "metadata": {},
   "outputs": [
    {
     "data": {
      "text/html": [
       "<div>\n",
       "<style scoped>\n",
       "    .dataframe tbody tr th:only-of-type {\n",
       "        vertical-align: middle;\n",
       "    }\n",
       "\n",
       "    .dataframe tbody tr th {\n",
       "        vertical-align: top;\n",
       "    }\n",
       "\n",
       "    .dataframe thead th {\n",
       "        text-align: right;\n",
       "    }\n",
       "</style>\n",
       "<table border=\"1\" class=\"dataframe\">\n",
       "  <thead>\n",
       "    <tr style=\"text-align: right;\">\n",
       "      <th></th>\n",
       "      <th>0</th>\n",
       "    </tr>\n",
       "  </thead>\n",
       "  <tbody>\n",
       "    <tr>\n",
       "      <th>min</th>\n",
       "      <td>2011-05-31</td>\n",
       "    </tr>\n",
       "  </tbody>\n",
       "</table>\n",
       "</div>"
      ],
      "text/plain": [
       "             0\n",
       "min 2011-05-31"
      ]
     },
     "execution_count": 20,
     "metadata": {},
     "output_type": "execute_result"
    }
   ],
   "source": [
    "pd.read_sql(\"select min(orderdate) from sales.SalesOrderHeader\", conn).T"
   ]
  },
  {
   "cell_type": "markdown",
   "metadata": {},
   "source": [
    "And what is the latest date of our orders."
   ]
  },
  {
   "cell_type": "code",
   "execution_count": 21,
   "metadata": {},
   "outputs": [
    {
     "data": {
      "text/html": [
       "<div>\n",
       "<style scoped>\n",
       "    .dataframe tbody tr th:only-of-type {\n",
       "        vertical-align: middle;\n",
       "    }\n",
       "\n",
       "    .dataframe tbody tr th {\n",
       "        vertical-align: top;\n",
       "    }\n",
       "\n",
       "    .dataframe thead th {\n",
       "        text-align: right;\n",
       "    }\n",
       "</style>\n",
       "<table border=\"1\" class=\"dataframe\">\n",
       "  <thead>\n",
       "    <tr style=\"text-align: right;\">\n",
       "      <th></th>\n",
       "      <th>0</th>\n",
       "    </tr>\n",
       "  </thead>\n",
       "  <tbody>\n",
       "    <tr>\n",
       "      <th>max</th>\n",
       "      <td>2014-06-30</td>\n",
       "    </tr>\n",
       "  </tbody>\n",
       "</table>\n",
       "</div>"
      ],
      "text/plain": [
       "             0\n",
       "max 2014-06-30"
      ]
     },
     "execution_count": 21,
     "metadata": {},
     "output_type": "execute_result"
    }
   ],
   "source": [
    "pd.read_sql(\"select max(orderdate) from sales.SalesOrderHeader\", conn).T"
   ]
  },
  {
   "cell_type": "markdown",
   "metadata": {},
   "source": [
    "So we can see that our most recent orders were placed at the end June of 2014.  "
   ]
  },
  {
   "cell_type": "markdown",
   "metadata": {},
   "source": [
    "Begin by finding the the top five total amounts spent by customers since July 1 2013.  Return both the customerIds and the total amounts spent."
   ]
  },
  {
   "cell_type": "code",
   "execution_count": 24,
   "metadata": {},
   "outputs": [
    {
     "data": {
      "text/html": [
       "<div>\n",
       "<style scoped>\n",
       "    .dataframe tbody tr th:only-of-type {\n",
       "        vertical-align: middle;\n",
       "    }\n",
       "\n",
       "    .dataframe tbody tr th {\n",
       "        vertical-align: top;\n",
       "    }\n",
       "\n",
       "    .dataframe thead th {\n",
       "        text-align: right;\n",
       "    }\n",
       "</style>\n",
       "<table border=\"1\" class=\"dataframe\">\n",
       "  <thead>\n",
       "    <tr style=\"text-align: right;\">\n",
       "      <th></th>\n",
       "      <th>customerid</th>\n",
       "      <th>total_amount</th>\n",
       "    </tr>\n",
       "  </thead>\n",
       "  <tbody>\n",
       "    <tr>\n",
       "      <th>0</th>\n",
       "      <td>29641</td>\n",
       "      <td>419331.7837</td>\n",
       "    </tr>\n",
       "    <tr>\n",
       "      <th>1</th>\n",
       "      <td>29629</td>\n",
       "      <td>389437.6577</td>\n",
       "    </tr>\n",
       "    <tr>\n",
       "      <th>2</th>\n",
       "      <td>29923</td>\n",
       "      <td>386059.4979</td>\n",
       "    </tr>\n",
       "    <tr>\n",
       "      <th>3</th>\n",
       "      <td>29736</td>\n",
       "      <td>363872.0389</td>\n",
       "    </tr>\n",
       "    <tr>\n",
       "      <th>4</th>\n",
       "      <td>29701</td>\n",
       "      <td>355051.0477</td>\n",
       "    </tr>\n",
       "  </tbody>\n",
       "</table>\n",
       "</div>"
      ],
      "text/plain": [
       "   customerid  total_amount\n",
       "0       29641   419331.7837\n",
       "1       29629   389437.6577\n",
       "2       29923   386059.4979\n",
       "3       29736   363872.0389\n",
       "4       29701   355051.0477"
      ]
     },
     "execution_count": 24,
     "metadata": {},
     "output_type": "execute_result"
    }
   ],
   "source": [
    "query = \"\"\"select customerId, sum(totaldue) as total_amount from sales.SalesOrderHeader \n",
    "where orderdate > '2013-07-01'::date\n",
    "group by customerId\n",
    "order by total_amount desc limit 5;\"\"\"\n",
    "pd.read_sql(query, conn)"
   ]
  },
  {
   "cell_type": "markdown",
   "metadata": {},
   "source": [
    "Next let's find the names of the top five products that brought in the most amount of revenue, and the amount of revenue for each since July 1st 2013 -- we can use the `salesOrderDetail.modifiedDate` column as a proxy for the dates of each sale. "
   ]
  },
  {
   "cell_type": "code",
   "execution_count": 26,
   "metadata": {},
   "outputs": [
    {
     "data": {
      "text/html": [
       "<div>\n",
       "<style scoped>\n",
       "    .dataframe tbody tr th:only-of-type {\n",
       "        vertical-align: middle;\n",
       "    }\n",
       "\n",
       "    .dataframe tbody tr th {\n",
       "        vertical-align: top;\n",
       "    }\n",
       "\n",
       "    .dataframe thead th {\n",
       "        text-align: right;\n",
       "    }\n",
       "</style>\n",
       "<table border=\"1\" class=\"dataframe\">\n",
       "  <thead>\n",
       "    <tr style=\"text-align: right;\">\n",
       "      <th></th>\n",
       "      <th>name</th>\n",
       "      <th>total_price</th>\n",
       "    </tr>\n",
       "  </thead>\n",
       "  <tbody>\n",
       "    <tr>\n",
       "      <th>0</th>\n",
       "      <td>Mountain-200 Black, 38</td>\n",
       "      <td>1.259927e+06</td>\n",
       "    </tr>\n",
       "    <tr>\n",
       "      <th>1</th>\n",
       "      <td>Mountain-200 Black, 42</td>\n",
       "      <td>1.222931e+06</td>\n",
       "    </tr>\n",
       "    <tr>\n",
       "      <th>2</th>\n",
       "      <td>Mountain-200 Silver, 38</td>\n",
       "      <td>1.156979e+06</td>\n",
       "    </tr>\n",
       "    <tr>\n",
       "      <th>3</th>\n",
       "      <td>Mountain-200 Black, 46</td>\n",
       "      <td>1.141849e+06</td>\n",
       "    </tr>\n",
       "    <tr>\n",
       "      <th>4</th>\n",
       "      <td>Mountain-200 Silver, 46</td>\n",
       "      <td>1.128350e+06</td>\n",
       "    </tr>\n",
       "  </tbody>\n",
       "</table>\n",
       "</div>"
      ],
      "text/plain": [
       "                      name   total_price\n",
       "0   Mountain-200 Black, 38  1.259927e+06\n",
       "1   Mountain-200 Black, 42  1.222931e+06\n",
       "2  Mountain-200 Silver, 38  1.156979e+06\n",
       "3   Mountain-200 Black, 46  1.141849e+06\n",
       "4  Mountain-200 Silver, 46  1.128350e+06"
      ]
     },
     "execution_count": 26,
     "metadata": {},
     "output_type": "execute_result"
    }
   ],
   "source": [
    "query = \"\"\"select production.Product.name, sum(unitprice) as total_price from sales.salesOrderDetail\n",
    "join production.Product on production.Product.ProductID = sales.salesOrderDetail.ProductID\n",
    "where sales.salesOrderDetail.modifiedDate > '2013-07-01'::date\n",
    " group by (production.Product.productid, production.Product.name) order by total_price desc limit 5;\"\"\"\n",
    "pd.read_sql(query, conn)"
   ]
  },
  {
   "cell_type": "markdown",
   "metadata": {},
   "source": [
    "So now that we've done some analysis on the products, let's take a look at the countries.  Find the country region codes related to the countries that have had the most sales in the past year."
   ]
  },
  {
   "cell_type": "code",
   "execution_count": 43,
   "metadata": {},
   "outputs": [
    {
     "data": {
      "text/html": [
       "<div>\n",
       "<style scoped>\n",
       "    .dataframe tbody tr th:only-of-type {\n",
       "        vertical-align: middle;\n",
       "    }\n",
       "\n",
       "    .dataframe tbody tr th {\n",
       "        vertical-align: top;\n",
       "    }\n",
       "\n",
       "    .dataframe thead th {\n",
       "        text-align: right;\n",
       "    }\n",
       "</style>\n",
       "<table border=\"1\" class=\"dataframe\">\n",
       "  <thead>\n",
       "    <tr style=\"text-align: right;\">\n",
       "      <th></th>\n",
       "      <th>territoryid</th>\n",
       "      <th>total_amount</th>\n",
       "    </tr>\n",
       "  </thead>\n",
       "  <tbody>\n",
       "    <tr>\n",
       "      <th>0</th>\n",
       "      <td>4</td>\n",
       "      <td>9.994438e+06</td>\n",
       "    </tr>\n",
       "    <tr>\n",
       "      <th>1</th>\n",
       "      <td>1</td>\n",
       "      <td>7.492804e+06</td>\n",
       "    </tr>\n",
       "    <tr>\n",
       "      <th>2</th>\n",
       "      <td>6</td>\n",
       "      <td>6.367257e+06</td>\n",
       "    </tr>\n",
       "    <tr>\n",
       "      <th>3</th>\n",
       "      <td>9</td>\n",
       "      <td>6.154403e+06</td>\n",
       "    </tr>\n",
       "    <tr>\n",
       "      <th>4</th>\n",
       "      <td>10</td>\n",
       "      <td>5.047151e+06</td>\n",
       "    </tr>\n",
       "    <tr>\n",
       "      <th>5</th>\n",
       "      <td>7</td>\n",
       "      <td>4.370710e+06</td>\n",
       "    </tr>\n",
       "    <tr>\n",
       "      <th>6</th>\n",
       "      <td>8</td>\n",
       "      <td>3.630621e+06</td>\n",
       "    </tr>\n",
       "    <tr>\n",
       "      <th>7</th>\n",
       "      <td>3</td>\n",
       "      <td>2.791293e+06</td>\n",
       "    </tr>\n",
       "    <tr>\n",
       "      <th>8</th>\n",
       "      <td>5</td>\n",
       "      <td>2.351479e+06</td>\n",
       "    </tr>\n",
       "    <tr>\n",
       "      <th>9</th>\n",
       "      <td>2</td>\n",
       "      <td>2.168895e+06</td>\n",
       "    </tr>\n",
       "  </tbody>\n",
       "</table>\n",
       "</div>"
      ],
      "text/plain": [
       "   territoryid  total_amount\n",
       "0            4  9.994438e+06\n",
       "1            1  7.492804e+06\n",
       "2            6  6.367257e+06\n",
       "3            9  6.154403e+06\n",
       "4           10  5.047151e+06\n",
       "5            7  4.370710e+06\n",
       "6            8  3.630621e+06\n",
       "7            3  2.791293e+06\n",
       "8            5  2.351479e+06\n",
       "9            2  2.168895e+06"
      ]
     },
     "execution_count": 43,
     "metadata": {},
     "output_type": "execute_result"
    }
   ],
   "source": [
    "query = \"\"\"select sales.SalesOrderHeader.territoryid, sum(totaldue) as total_amount \n",
    "from sales.SalesOrderHeader \n",
    "where orderdate > '2013-07-01'::date\n",
    "group by sales.SalesOrderHeader.territoryId\n",
    "order by total_amount desc\n",
    "\"\"\"\n",
    "pd.read_sql(query, conn)"
   ]
  },
  {
   "cell_type": "markdown",
   "metadata": {},
   "source": [
    "### Looking at Salespeople"
   ]
  },
  {
   "cell_type": "markdown",
   "metadata": {},
   "source": [
    "Next, let's try to find the top performing salespeople.  To begin, let's take a look at our salesperson table."
   ]
  },
  {
   "cell_type": "code",
   "execution_count": 40,
   "metadata": {},
   "outputs": [
    {
     "data": {
      "text/html": [
       "<div>\n",
       "<style scoped>\n",
       "    .dataframe tbody tr th:only-of-type {\n",
       "        vertical-align: middle;\n",
       "    }\n",
       "\n",
       "    .dataframe tbody tr th {\n",
       "        vertical-align: top;\n",
       "    }\n",
       "\n",
       "    .dataframe thead th {\n",
       "        text-align: right;\n",
       "    }\n",
       "</style>\n",
       "<table border=\"1\" class=\"dataframe\">\n",
       "  <thead>\n",
       "    <tr style=\"text-align: right;\">\n",
       "      <th></th>\n",
       "      <th>0</th>\n",
       "      <th>1</th>\n",
       "    </tr>\n",
       "  </thead>\n",
       "  <tbody>\n",
       "    <tr>\n",
       "      <th>businessentityid</th>\n",
       "      <td>274</td>\n",
       "      <td>275</td>\n",
       "    </tr>\n",
       "    <tr>\n",
       "      <th>territoryid</th>\n",
       "      <td>NaN</td>\n",
       "      <td>2.0</td>\n",
       "    </tr>\n",
       "    <tr>\n",
       "      <th>salesquota</th>\n",
       "      <td>NaN</td>\n",
       "      <td>300000.0</td>\n",
       "    </tr>\n",
       "    <tr>\n",
       "      <th>bonus</th>\n",
       "      <td>0.0</td>\n",
       "      <td>4100.0</td>\n",
       "    </tr>\n",
       "    <tr>\n",
       "      <th>commissionpct</th>\n",
       "      <td>0.0</td>\n",
       "      <td>0.012</td>\n",
       "    </tr>\n",
       "    <tr>\n",
       "      <th>salesytd</th>\n",
       "      <td>559697.5639</td>\n",
       "      <td>3763178.1787</td>\n",
       "    </tr>\n",
       "    <tr>\n",
       "      <th>saleslastyear</th>\n",
       "      <td>0.0</td>\n",
       "      <td>1750406.4785</td>\n",
       "    </tr>\n",
       "    <tr>\n",
       "      <th>rowguid</th>\n",
       "      <td>48754992-9ee0-4c0e-8c94-9451604e3e02</td>\n",
       "      <td>1e0a7274-3064-4f58-88ee-4c6586c87169</td>\n",
       "    </tr>\n",
       "    <tr>\n",
       "      <th>modifieddate</th>\n",
       "      <td>2010-12-28 00:00:00</td>\n",
       "      <td>2011-05-24 00:00:00</td>\n",
       "    </tr>\n",
       "  </tbody>\n",
       "</table>\n",
       "</div>"
      ],
      "text/plain": [
       "                                                     0  \\\n",
       "businessentityid                                   274   \n",
       "territoryid                                        NaN   \n",
       "salesquota                                         NaN   \n",
       "bonus                                              0.0   \n",
       "commissionpct                                      0.0   \n",
       "salesytd                                   559697.5639   \n",
       "saleslastyear                                      0.0   \n",
       "rowguid           48754992-9ee0-4c0e-8c94-9451604e3e02   \n",
       "modifieddate                       2010-12-28 00:00:00   \n",
       "\n",
       "                                                     1  \n",
       "businessentityid                                   275  \n",
       "territoryid                                        2.0  \n",
       "salesquota                                    300000.0  \n",
       "bonus                                           4100.0  \n",
       "commissionpct                                    0.012  \n",
       "salesytd                                  3763178.1787  \n",
       "saleslastyear                             1750406.4785  \n",
       "rowguid           1e0a7274-3064-4f58-88ee-4c6586c87169  \n",
       "modifieddate                       2011-05-24 00:00:00  "
      ]
     },
     "execution_count": 40,
     "metadata": {},
     "output_type": "execute_result"
    }
   ],
   "source": [
    "pd.read_sql(\"select * from sales.SalesPerson limit 2;\", conn).T"
   ]
  },
  {
   "cell_type": "markdown",
   "metadata": {},
   "source": [
    "We can see that we have a `salesytd` column as well as a `modifieddate` column.  One item that may be difficult to identify is the sales person id.  This it turns out is the `businessentityid`.  "
   ]
  },
  {
   "cell_type": "markdown",
   "metadata": {},
   "source": [
    "Now let's find the max salesperson for territory 4."
   ]
  },
  {
   "cell_type": "code",
   "execution_count": 56,
   "metadata": {},
   "outputs": [
    {
     "data": {
      "text/html": [
       "<div>\n",
       "<style scoped>\n",
       "    .dataframe tbody tr th:only-of-type {\n",
       "        vertical-align: middle;\n",
       "    }\n",
       "\n",
       "    .dataframe tbody tr th {\n",
       "        vertical-align: top;\n",
       "    }\n",
       "\n",
       "    .dataframe thead th {\n",
       "        text-align: right;\n",
       "    }\n",
       "</style>\n",
       "<table border=\"1\" class=\"dataframe\">\n",
       "  <thead>\n",
       "    <tr style=\"text-align: right;\">\n",
       "      <th></th>\n",
       "      <th>businessentityid</th>\n",
       "      <th>territoryid</th>\n",
       "      <th>salesquota</th>\n",
       "      <th>bonus</th>\n",
       "      <th>commissionpct</th>\n",
       "      <th>salesytd</th>\n",
       "      <th>saleslastyear</th>\n",
       "      <th>rowguid</th>\n",
       "      <th>modifieddate</th>\n",
       "    </tr>\n",
       "  </thead>\n",
       "  <tbody>\n",
       "    <tr>\n",
       "      <th>0</th>\n",
       "      <td>276</td>\n",
       "      <td>4</td>\n",
       "      <td>250000.0</td>\n",
       "      <td>2000.0</td>\n",
       "      <td>0.015</td>\n",
       "      <td>4.251369e+06</td>\n",
       "      <td>1.439156e+06</td>\n",
       "      <td>4dd9eee4-8e81-4f8c-af97-683394c1f7c0</td>\n",
       "      <td>2011-05-24</td>\n",
       "    </tr>\n",
       "  </tbody>\n",
       "</table>\n",
       "</div>"
      ],
      "text/plain": [
       "   businessentityid  territoryid  salesquota   bonus  commissionpct  \\\n",
       "0               276            4    250000.0  2000.0          0.015   \n",
       "\n",
       "       salesytd  saleslastyear                               rowguid  \\\n",
       "0  4.251369e+06   1.439156e+06  4dd9eee4-8e81-4f8c-af97-683394c1f7c0   \n",
       "\n",
       "  modifieddate  \n",
       "0   2011-05-24  "
      ]
     },
     "execution_count": 56,
     "metadata": {},
     "output_type": "execute_result"
    }
   ],
   "source": [
    "pd.read_sql(\"select * from sales.SalesPerson order by salesytd desc limit 1;\", conn)"
   ]
  },
  {
   "cell_type": "markdown",
   "metadata": {},
   "source": [
    "And from there, let's find all of the products that he sold."
   ]
  },
  {
   "cell_type": "code",
   "execution_count": 67,
   "metadata": {},
   "outputs": [
    {
     "data": {
      "text/html": [
       "<div>\n",
       "<style scoped>\n",
       "    .dataframe tbody tr th:only-of-type {\n",
       "        vertical-align: middle;\n",
       "    }\n",
       "\n",
       "    .dataframe tbody tr th {\n",
       "        vertical-align: top;\n",
       "    }\n",
       "\n",
       "    .dataframe thead th {\n",
       "        text-align: right;\n",
       "    }\n",
       "</style>\n",
       "<table border=\"1\" class=\"dataframe\">\n",
       "  <thead>\n",
       "    <tr style=\"text-align: right;\">\n",
       "      <th></th>\n",
       "      <th>salesorderid</th>\n",
       "      <th>salesorderdetailid</th>\n",
       "      <th>carriertrackingnumber</th>\n",
       "      <th>orderqty</th>\n",
       "      <th>productid</th>\n",
       "      <th>specialofferid</th>\n",
       "      <th>unitprice</th>\n",
       "      <th>unitpricediscount</th>\n",
       "      <th>rowguid</th>\n",
       "      <th>modifieddate</th>\n",
       "    </tr>\n",
       "  </thead>\n",
       "  <tbody>\n",
       "    <tr>\n",
       "      <th>0</th>\n",
       "      <td>43659</td>\n",
       "      <td>1</td>\n",
       "      <td>4911-403C-98</td>\n",
       "      <td>1</td>\n",
       "      <td>776</td>\n",
       "      <td>1</td>\n",
       "      <td>2024.994</td>\n",
       "      <td>0.0</td>\n",
       "      <td>b207c96d-d9e6-402b-8470-2cc176c42283</td>\n",
       "      <td>2011-05-31</td>\n",
       "    </tr>\n",
       "    <tr>\n",
       "      <th>1</th>\n",
       "      <td>43659</td>\n",
       "      <td>2</td>\n",
       "      <td>4911-403C-98</td>\n",
       "      <td>3</td>\n",
       "      <td>777</td>\n",
       "      <td>1</td>\n",
       "      <td>2024.994</td>\n",
       "      <td>0.0</td>\n",
       "      <td>7abb600d-1e77-41be-9fe5-b9142cfc08fa</td>\n",
       "      <td>2011-05-31</td>\n",
       "    </tr>\n",
       "  </tbody>\n",
       "</table>\n",
       "</div>"
      ],
      "text/plain": [
       "   salesorderid  salesorderdetailid carriertrackingnumber  orderqty  \\\n",
       "0         43659                   1          4911-403C-98         1   \n",
       "1         43659                   2          4911-403C-98         3   \n",
       "\n",
       "   productid  specialofferid  unitprice  unitpricediscount  \\\n",
       "0        776               1   2024.994                0.0   \n",
       "1        777               1   2024.994                0.0   \n",
       "\n",
       "                                rowguid modifieddate  \n",
       "0  b207c96d-d9e6-402b-8470-2cc176c42283   2011-05-31  \n",
       "1  7abb600d-1e77-41be-9fe5-b9142cfc08fa   2011-05-31  "
      ]
     },
     "execution_count": 67,
     "metadata": {},
     "output_type": "execute_result"
    }
   ],
   "source": [
    "pd.read_sql(\"select * from sales.salesOrderDetail limit 2;\", conn) "
   ]
  },
  {
   "cell_type": "markdown",
   "metadata": {},
   "source": [
    "Now let's the top three items that the salesperson with id 276 sold.  \n",
    "\n",
    "> Some of the foreign keys may be tricky to figure out but use your best guess."
   ]
  },
  {
   "cell_type": "code",
   "execution_count": 73,
   "metadata": {},
   "outputs": [
    {
     "data": {
      "text/html": [
       "<div>\n",
       "<style scoped>\n",
       "    .dataframe tbody tr th:only-of-type {\n",
       "        vertical-align: middle;\n",
       "    }\n",
       "\n",
       "    .dataframe tbody tr th {\n",
       "        vertical-align: top;\n",
       "    }\n",
       "\n",
       "    .dataframe thead th {\n",
       "        text-align: right;\n",
       "    }\n",
       "</style>\n",
       "<table border=\"1\" class=\"dataframe\">\n",
       "  <thead>\n",
       "    <tr style=\"text-align: right;\">\n",
       "      <th></th>\n",
       "      <th>amount</th>\n",
       "      <th>name</th>\n",
       "    </tr>\n",
       "  </thead>\n",
       "  <tbody>\n",
       "    <tr>\n",
       "      <th>0</th>\n",
       "      <td>141</td>\n",
       "      <td>Long-Sleeve Logo Jersey, L</td>\n",
       "    </tr>\n",
       "    <tr>\n",
       "      <th>1</th>\n",
       "      <td>135</td>\n",
       "      <td>AWC Logo Cap</td>\n",
       "    </tr>\n",
       "    <tr>\n",
       "      <th>2</th>\n",
       "      <td>124</td>\n",
       "      <td>Sport-100 Helmet, Blue</td>\n",
       "    </tr>\n",
       "  </tbody>\n",
       "</table>\n",
       "</div>"
      ],
      "text/plain": [
       "   amount                        name\n",
       "0     141  Long-Sleeve Logo Jersey, L\n",
       "1     135                AWC Logo Cap\n",
       "2     124      Sport-100 Helmet, Blue"
      ]
     },
     "execution_count": 73,
     "metadata": {},
     "output_type": "execute_result"
    }
   ],
   "source": [
    "query = \"\"\"select count(*) as amount, production.Product.name from sales.salesorderheader \n",
    "join sales.salesOrderDetail on sales.salesOrderDetail.salesorderid = sales.salesorderheader.salesorderid\n",
    "join production.Product on production.Product.ProductID = sales.salesOrderDetail.ProductID\n",
    "where salespersonid = 276 group by production.Product.name order by amount desc limit 3;\"\"\"\n",
    "pd.read_sql(query, conn)"
   ]
  },
  {
   "cell_type": "code",
   "execution_count": null,
   "metadata": {},
   "outputs": [],
   "source": []
  }
 ],
 "metadata": {
  "kernelspec": {
   "display_name": "Python 3.9.10 64-bit",
   "language": "python",
   "name": "python3"
  },
  "language_info": {
   "codemirror_mode": {
    "name": "ipython",
    "version": 3
   },
   "file_extension": ".py",
   "mimetype": "text/x-python",
   "name": "python",
   "nbconvert_exporter": "python",
   "pygments_lexer": "ipython3",
   "version": "3.9.10"
  },
  "orig_nbformat": 4,
  "vscode": {
   "interpreter": {
    "hash": "aee8b7b246df8f9039afb4144a1f6fd8d2ca17a180786b69acc140d282b71a49"
   }
  }
 },
 "nbformat": 4,
 "nbformat_minor": 2
}
